{
 "cells": [
  {
   "cell_type": "code",
   "execution_count": null,
   "metadata": {},
   "outputs": [],
   "source": [
    "from ezfit import FitPDF, Contribution, Ezrestraint\n",
    "\n",
    "from rsc import MPDF_Wrapper, AttrDict, r_gr_mgr, get_Tb1\n",
    "import numpy as np\n",
    "import matplotlib.pyplot as plt \n",
    "\n",
    "k13, a1, a2, a3, a4 = get_Tb1() # kvec and basis vectors for Tb1 which are the same for Tb2 and Tb3\n",
    "\n",
    "Tb3Ni = Contribution(cif_name=\"Tb3Ni\", cf_name=\"sphericalCF\", formula=\"Tb3Ni\")\n",
    "fit = FitPDF(f\"./data/Tb3Ni@58K.gr\", [Tb3Ni])\n",
    "\n",
    "\n",
    "mfit = MPDF_Wrapper(fit.cif_files[\"Tb3Ni\"], AttrDict(fit.config))\n",
    "\n",
    "\n",
    "mfit.add_magnetic_species(\n",
    "    name=f\"aTb3_1\",\n",
    "    ffparamkey=\"Tb3\",\n",
    "    strucIdxs=[0, 4, 8],\n",
    "    basisvecs=a1,\n",
    "    kvecs=[[k13]*12],\n",
    ")\n",
    "\n",
    "mfit.add_magnetic_species(\n",
    "    name=f\"aTb3_2\",\n",
    "    ffparamkey=\"Tb3\",\n",
    "    strucIdxs=[1, 5, 9],\n",
    "    basisvecs=a2,\n",
    "    kvecs=[[k13]*12],\n",
    ")\n",
    "\n",
    "mfit.add_magnetic_species(\n",
    "    name=f\"aTb3_3\",\n",
    "    ffparamkey=\"Tb3\",\n",
    "    strucIdxs=[2, 6, 10],\n",
    "    basisvecs=a3,\n",
    "    kvecs=[[k13]*12],\n",
    ")\n",
    "\n",
    "mfit.add_magnetic_species(\n",
    "    name=f\"aTb3_4\",\n",
    "    ffparamkey=\"Tb3\",\n",
    "    strucIdxs=[3, 7, 11],\n",
    "    basisvecs=a4,\n",
    "    kvecs=[[k13]*12],\n",
    ")\n",
    "\n",
    "\n",
    "mfit.set_up_MagStruc()\n",
    "\n",
    "\n",
    "mfit.set_up_MagCalc()\n",
    "fit.update_recipe()\n",
    "mfit.register_mPDF_in_Structure(fit)\n",
    "fit.LoadResFromFile(\"structural.res\")\n",
    "\n",
    "\n",
    "fit.run_fit()"
   ]
  },
  {
   "cell_type": "code",
   "execution_count": null,
   "metadata": {},
   "outputs": [],
   "source": [
    "def gradient_f(x, f, args):\n",
    "    # assert (x.shape[0] >= x.shape[1]), \"the vector should be a column vector\"\n",
    "    # x = x.astype(float)\n",
    "    # N = x.shape[0]\n",
    "    gradient = []\n",
    "    for param_key in x:\n",
    "        if x[param_key].vary == False:\n",
    "            continue\n",
    "        if x[param_key] is None or x[param_key] == 0.0:\n",
    "            x[param_key].set(1e-18)\n",
    "        eps = abs(x[param_key].value) * np.finfo(np.float32).eps\n",
    "        xx0 = 1. * x[param_key].value\n",
    "        f0 = f(x, *args)\n",
    "        x[param_key].set(x[param_key] + eps)\n",
    "        f1 = f(x, *args)\n",
    "        gradient.append(np.ndarray.item(np.array([f1 - f0])) / eps)\n",
    "        x[param_key].set(xx0)\n",
    "    return np.array(gradient)\n",
    "\n",
    "\n",
    "# Hessian Matrix\n",
    "def hessian(x, the_func, args):\n",
    "    length = 0\n",
    "    params_order = []\n",
    "    for param_key in x:\n",
    "        if x[param_key].vary == False:\n",
    "            continue\n",
    "        else:\n",
    "            length += 1\n",
    "    N = length\n",
    "    hessian = np.zeros((N, N))\n",
    "    gd_0 = gradient_f(x, the_func, args)\n",
    "    # eps = np.linalg.norm(gd_0) * np.finfo(np.float32).eps\n",
    "    i = 0\n",
    "    for param_key in x:\n",
    "        if x[param_key].vary == False:\n",
    "            continue\n",
    "        if x[param_key] is None or x[param_key] == 0.0:\n",
    "            x[param_key].set(1e-18)\n",
    "        eps = np.abs(x[param_key]) * np.finfo(np.float32).eps\n",
    "        xx0 = 1. * x[param_key]\n",
    "        x[param_key].set(xx0 + eps)\n",
    "        gd_1 = gradient_f(x, the_func, args)\n",
    "        hessian[:, i] = ((gd_1 - gd_0) / eps)\n",
    "        x[param_key].set(xx0)\n",
    "        i += 1\n",
    "        params_order.append(param_key)\n",
    "    return hessian, params_order\n",
    "\n",
    "\n",
    "def calc_covar(x, the_func, args):\n",
    "    hess, param_list = hessian(x, the_func, args)\n",
    "\n",
    "    det_hess = np.linalg.slogdet(hess)\n",
    "\n",
    "    _, det_neg_hess = np.linalg.slogdet(hess)\n",
    "    try:\n",
    "        cov = np.linalg.inv(hess)\n",
    "        return cov, param_list\n",
    "    except:\n",
    "        return None"
   ]
  },
  {
   "cell_type": "code",
   "execution_count": null,
   "metadata": {},
   "outputs": [],
   "source": [
    "params = {k: v for k, v in zip(fit.recipe.getNames(), fit.recipe.getValues())}\n",
    "params"
   ]
  },
  {
   "cell_type": "code",
   "execution_count": null,
   "metadata": {},
   "outputs": [],
   "source": [
    "hessian(params, fit.recipe.residual)"
   ]
  },
  {
   "cell_type": "code",
   "execution_count": null,
   "metadata": {},
   "outputs": [],
   "source": [
    "%matplotlib tk\n",
    "visMask = np.apply_along_axis(np.linalg.norm, 1, mfit.mstruc.atoms - mfit.mstruc.atoms[0]) < 6\n",
    "visAtoms = mfit.mstruc.atoms[visMask]\n",
    "visSpins = mfit.mstruc.spins[visMask]\n",
    "mfit.mstruc.visualize(visAtoms, visSpins)"
   ]
  },
  {
   "cell_type": "code",
   "execution_count": null,
   "metadata": {},
   "outputs": [],
   "source": [
    "fit.res.printResults()"
   ]
  },
  {
   "cell_type": "code",
   "execution_count": null,
   "metadata": {},
   "outputs": [],
   "source": [
    "r, gobs, gcalc, magcalc, baseline, gdiff = r_gr_mgr(fit, mfit)\n",
    "\n",
    "plt.plot(r, gobs, label=\"obs\")\n",
    "plt.plot(r, gcalc, label=\"calc\", color=\"red\")\n",
    "plt.plot(r, magcalc - 10, label=\"mag\")\n",
    "\n",
    "plt.legend()\n",
    "\n",
    "plt.savefig(\"mPDF_v1.pdf\")"
   ]
  },
  {
   "cell_type": "code",
   "execution_count": 3,
   "metadata": {},
   "outputs": [
    {
     "name": "stderr",
     "output_type": "stream",
     "text": [
      "/Users/benjaminfahl/miniconda3/envs/py37/lib/python3.7/site-packages/diffpy.srfit-3.0.0-py3.7.egg/diffpy/srfit/fitbase/fitresults.py:174: RuntimeWarning: divide by zero encountered in true_divide\n",
      "  self.cov = numpy.dot(vh.T.conj()/s**2,vh)\n",
      "/Users/benjaminfahl/miniconda3/envs/py37/lib/python3.7/site-packages/diffpy.srfit-3.0.0-py3.7.egg/diffpy/srfit/fitbase/fitresults.py:174: RuntimeWarning: invalid value encountered in true_divide\n",
      "  self.cov = numpy.dot(vh.T.conj()/s**2,vh)\n"
     ]
    },
    {
     "name": "stdout",
     "output_type": "stream",
     "text": [
      "Some quantities invalid due to missing profile uncertainty\n",
      "Overall (Chi2 and Reduced Chi2 invalid)\n",
      "------------------------------------------------------------------------------\n",
      "Residual       9570.26927222\n",
      "Contributions  9570.26907115\n",
      "Restraints     0.00020107\n",
      "Chi2           9570.26907115\n",
      "Reduced Chi2   3.29441276\n",
      "Rw             0.39871795\n",
      "\n",
      "Variables (Uncertainties invalid)\n",
      "------------------------------------------------------------------------------\n",
      "Tb3Ni_Ni1_Biso  3.22929394e-01 +/- nan\n",
      "Tb3Ni_Tb1_Biso  6.69895550e-01 +/- nan\n",
      "Tb3Ni_Tb2_Biso  1.53914771e-01 +/- nan\n",
      "Tb3Ni_a         6.52392798e+00 +/- nan\n",
      "Tb3Ni_b         9.29962108e+00 +/- nan\n",
      "Tb3Ni_c         6.35004956e+00 +/- nan\n",
      "Tb3Ni_delta2    1.00000000e+00 +/- inf\n",
      "ordscale        9.02394897e-02 +/- nan\n",
      "parascale       6.14308959e-01 +/- nan\n",
      "xi              8.85590048e+00 +/- nan\n",
      "\n",
      "Fixed Variables\n",
      "------------------------------------------------------------------------------\n",
      "Tb3Ni_Ni1_occ  1.00001418e+00\n",
      "Tb3Ni_Ni1_x    1.13310781e-01\n",
      "Tb3Ni_Ni1_z    9.43838570e-01\n",
      "Tb3Ni_Tb1_occ  5.98364902e-01\n",
      "Tb3Ni_Tb1_x    1.71534111e-01\n",
      "Tb3Ni_Tb1_y    6.08806854e-02\n",
      "Tb3Ni_Tb1_z    1.77599371e-01\n",
      "Tb3Ni_Tb2_occ  2.91957627e-01\n",
      "Tb3Ni_Tb2_x    3.92074933e-02\n",
      "Tb3Ni_Tb2_z    6.42547085e-01\n",
      "Tb3Ni_scale    6.28300000e+00\n",
      "\n",
      "Variable Correlations greater than 25% (Correlations invalid)\n",
      "------------------------------------------------------------------------------\n",
      "No correlations greater than 25%\n"
     ]
    },
    {
     "data": {
      "image/png": "[encoded data removed]",
      "text/plain": [
       "<Figure size 590.551x364.981 with 1 Axes>"
      ]
     },
     "metadata": {},
     "output_type": "display_data"
    }
   ],
   "source": [
    "from ezfit import FitPDF, Contribution, Ezrestraint\n",
    "from ezplot import plot_defaults\n",
    "from rsc import MPDF_Wrapper, AttrDict, r_gr_mgr, get_Tb1\n",
    "from diffpy.mpdf.mciftools import create_from_mcif\n",
    "import numpy as np\n",
    "import matplotlib.pyplot as plt \n",
    "\n",
    "\n",
    "\n",
    "\n",
    "\n",
    "for T in [10, 30, 50, 58, 65, 70, 85, 110, 150, 300][:1]:\n",
    "    Tb3Ni = Contribution(cif_name=\"Tb3Ni\", cf_name=\"bulkCF\", formula=\"Tb3Ni\")\n",
    "\n",
    "    fit = FitPDF(f\"./data/Tb3Ni@{T}K.gr\", [Tb3Ni])\n",
    "\n",
    "\n",
    "    mfit = MPDF_Wrapper(fit.cif_files[\"Tb3Ni\"], AttrDict(fit.config))\n",
    "\n",
    "\n",
    "    mfit.mstruc = create_from_mcif(\"cifs/Tb3Ni@58K.mcif\", ffparamkey=\"Tb3\")\n",
    "\n",
    "    mfit.set_up_MagCalc()\n",
    "    fit.update_recipe()\n",
    "    mfit.register_mPDF_in_Structure(fit)\n",
    "    fit.LoadResFromFile(\"structural.res\")\n",
    "    \n",
    "    fit.run_fit()\n",
    "\n",
    "    r, gobs, gcalc, magcalc, baseline, gdiff = r_gr_mgr(fit, mfit)\n",
    "\n",
    "    fig, gs = plot_defaults(1, 1)\n",
    "    ax = fig.add_subplot(gs[0, 0])\n",
    "    ax.plot(r, gobs, label=\"obs\")\n",
    "    ax.plot(r, gcalc, label=\"calc\", color=\"red\")\n",
    "    ax.plot(r, magcalc - 10, label=\"mag\")\n",
    "\n",
    "    ax.legend()\n",
    "    fit.res.saveResults(f\"res/mPDF_T{T}K_mcif.res\")\n",
    "    plt.savefig(f\"res/mPDF_T{T}K_mcif.pdf\")\n",
    "\n",
    "    "
   ]
  },
  {
   "cell_type": "code",
   "execution_count": null,
   "metadata": {},
   "outputs": [],
   "source": [
    "fit.recipe.equation"
   ]
  },
  {
   "cell_type": "code",
   "execution_count": null,
   "metadata": {},
   "outputs": [],
   "source": [
    "%matplotlib tk\n",
    "visMask = np.apply_along_axis(np.linalg.norm, 1, mfit.mstruc.atoms - mfit.mstruc.atoms[0]) < 6\n",
    "visAtoms = mfit.mstruc.atoms[visMask]\n",
    "visSpins = mfit.mstruc.spins[visMask]\n",
    "mfit.mstruc.visualize(visAtoms, visSpins)"
   ]
  },
  {
   "cell_type": "code",
   "execution_count": null,
   "metadata": {},
   "outputs": [],
   "source": [
    "fit.res.printResults()"
   ]
  },
  {
   "cell_type": "code",
   "execution_count": null,
   "metadata": {},
   "outputs": [],
   "source": []
  }
 ],
 "metadata": {
  "kernelspec": {
   "display_name": "py37",
   "language": "python",
   "name": "python3"
  },
  "language_info": {
   "codemirror_mode": {
    "name": "ipython",
    "version": 3
   },
   "file_extension": ".py",
   "mimetype": "text/x-python",
   "name": "python",
   "nbconvert_exporter": "python",
   "pygments_lexer": "ipython3",
   "version": "3.7.16"
  },
  "orig_nbformat": 4
 },
 "nbformat": 4,
 "nbformat_minor": 2
}
